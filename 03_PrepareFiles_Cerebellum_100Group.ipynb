{
 "cells": [
  {
   "cell_type": "code",
   "execution_count": null,
   "metadata": {
    "collapsed": true
   },
   "outputs": [],
   "source": [
    "# To visualize field inhomogeneity maps of several individual subjects and generate myelin maps\n",
    "# for one single subject, do the following with the output of the default bias regularization\n",
    "# step of the SPM12 segment procedure:\n",
    "\n",
    "## fslmaths BiasField_T1w_restore.nii -div BiasField_T2w_restore.nii T1wdivT2wFieldMap_$1.nii\n",
    "## fslmaths mT1w_restore.nii -div mT2w_restore.nii T1wdivT2w_$1.nii\n",
    "## flirt -in T1wdivT2w_$1.nii -ref T1wdivT2w_$1.nii -out T1wdivT2w_$1_2mmResample.nii -applyisoxfm 2 -noresampblur\n",
    "## fslroi T1wdivT2w_$1_2mmResample.nii T1wdivT2w_$1_2mmResample_resized.nii 0 91 0 109 0 91\n",
    "## gzip -d T1wdivT2w_$1_2mmResample_resized.nii.gz\n",
    "## fslmaths T1wdivT2w_$1_2mmResample_resized.nii -mas cerebellum_bilateral.nii T1wdivT2w_$1_2mmResample_resized_crbonly.nii\n",
    "## gzip -d T1wdivT2w_$1_2mmResample_resized_crbonly.nii.gz\n",
    "## wb_command -cifti-create-dense-from-template result_fromcerebellumtocerebellum.dscalar.nii myelin_cerebellumonly_$1.dscalar.nii -volume-all T1wdivT2w_$1_2mmResample_resized.nii"
   ]
  },
  {
   "cell_type": "code",
   "execution_count": null,
   "metadata": {
    "collapsed": true
   },
   "outputs": [],
   "source": [
    "# To average files from each subject of the 100 group after field inhomogeneity correction:\n",
    "## fslmaths mT1w_restore_102109.nii -add mT1w_restore_102614.nii -add mT1w_restore_102715.nii -add mT1w_restore_103212.nii -add mT1w_restore_106824.nii -add mT1w_restore_108020.nii -add mT1w_restore_111211.nii -add mT1w_restore_113316.nii -add mT1w_restore_115724.nii -add mT1w_restore_117021.nii -add mT1w_restore_604537.nii -add mT1w_restore_609143.nii -add mT1w_restore_611231.nii -add mT1w_restore_611938.nii -add mT1w_restore_613235.nii -add mT1w_restore_613538.nii -add mT1w_restore_614439.nii -add mT1w_restore_615441.nii -add mT1w_restore_615744.nii -add mT1w_restore_616645.nii -add mT1w_restore_617748.nii -add mT1w_restore_618952.nii -add mT1w_restore_620434.nii -add mT1w_restore_622236.nii -add mT1w_restore_623137.nii -add mT1w_restore_623844.nii -add mT1w_restore_626648.nii -add mT1w_restore_627549.nii -add mT1w_restore_627852.nii -add mT1w_restore_628248.nii -add mT1w_restore_633847.nii -add mT1w_restore_634748.nii -add mT1w_restore_635245.nii -add mT1w_restore_638049.nii -add mT1w_restore_644044.nii -add mT1w_restore_644246.nii -add mT1w_restore_645450.nii -add mT1w_restore_645551.nii -add mT1w_restore_647858.nii -add mT1w_restore_650746.nii -add mT1w_restore_654350.nii -add mT1w_restore_654552.nii -add mT1w_restore_654754.nii -add mT1w_restore_656253.nii -add mT1w_restore_656657.nii -add mT1w_restore_657659.nii -add mT1w_restore_660951.nii -add mT1w_restore_662551.nii -add mT1w_restore_663755.nii -add mT1w_restore_664757.nii -add mT1w_restore_500222.nii -add mT1w_restore_506234.nii -add mT1w_restore_510225.nii -add mT1w_restore_510326.nii -add mT1w_restore_512835.nii -add mT1w_restore_513130.nii -add mT1w_restore_513736.nii -add mT1w_restore_516742.nii -add mT1w_restore_517239.nii -add mT1w_restore_518746.nii -add mT1w_restore_519647.nii -add mT1w_restore_519950.nii -add mT1w_restore_520228.nii -add mT1w_restore_521331.nii -add mT1w_restore_522434.nii -add mT1w_restore_523032.nii -add mT1w_restore_524135.nii -add mT1w_restore_525541.nii -add mT1w_restore_529549.nii -add mT1w_restore_529953.nii -add mT1w_restore_530635.nii -add mT1w_restore_531536.nii -add mT1w_restore_531940.nii -add mT1w_restore_536647.nii -add mT1w_restore_540436.nii -add mT1w_restore_541640.nii -add mT1w_restore_541943.nii -add mT1w_restore_545345.nii -add mT1w_restore_547046.nii -add mT1w_restore_548250.nii -add mT1w_restore_549757.nii -add mT1w_restore_550439.nii -add mT1w_restore_552241.nii -add mT1w_restore_552544.nii -add mT1w_restore_553344.nii -add mT1w_restore_555348.nii -add mT1w_restore_555651.nii -add mT1w_restore_555954.nii -add mT1w_restore_557857.nii -add mT1w_restore_558657.nii -add mT1w_restore_558960.nii -add mT1w_restore_559053.nii -add mT1w_restore_559457.nii -add mT1w_restore_561242.nii -add mT1w_restore_561444.nii -add mT1w_restore_561949.nii -add mT1w_restore_562345.nii -add mT1w_restore_562446.nii -add mT1w_restore_565452.nii -add mT1w_restore_566454.nii mT1w_100added.nii\n",
    "## fslmaths mT1w_100added.nii -div 100 mT1w_100average.nii\n",
    "## fslmaths mT2w_restore_102109.nii -add mT2w_restore_102614.nii -add mT2w_restore_102715.nii -add mT2w_restore_103212.nii -add mT2w_restore_106824.nii -add mT2w_restore_108020.nii -add mT2w_restore_111211.nii -add mT2w_restore_113316.nii -add mT2w_restore_115724.nii -add mT2w_restore_117021.nii -add mT2w_restore_604537.nii -add mT2w_restore_609143.nii -add mT2w_restore_611231.nii -add mT2w_restore_611938.nii -add mT2w_restore_613235.nii -add mT2w_restore_613538.nii -add mT2w_restore_614439.nii -add mT2w_restore_615441.nii -add mT2w_restore_615744.nii -add mT2w_restore_616645.nii -add mT2w_restore_617748.nii -add mT2w_restore_618952.nii -add mT2w_restore_620434.nii -add mT2w_restore_622236.nii -add mT2w_restore_623137.nii -add mT2w_restore_623844.nii -add mT2w_restore_626648.nii -add mT2w_restore_627549.nii -add mT2w_restore_627852.nii -add mT2w_restore_628248.nii -add mT2w_restore_633847.nii -add mT2w_restore_634748.nii -add mT2w_restore_635245.nii -add mT2w_restore_638049.nii -add mT2w_restore_644044.nii -add mT2w_restore_644246.nii -add mT2w_restore_645450.nii -add mT2w_restore_645551.nii -add mT2w_restore_647858.nii -add mT2w_restore_650746.nii -add mT2w_restore_654350.nii -add mT2w_restore_654552.nii -add mT2w_restore_654754.nii -add mT2w_restore_656253.nii -add mT2w_restore_656657.nii -add mT2w_restore_657659.nii -add mT2w_restore_660951.nii -add mT2w_restore_662551.nii -add mT2w_restore_663755.nii -add mT2w_restore_664757.nii -add mT2w_restore_500222.nii -add mT2w_restore_506234.nii -add mT2w_restore_510225.nii -add mT2w_restore_510326.nii -add mT2w_restore_512835.nii -add mT2w_restore_513130.nii -add mT2w_restore_513736.nii -add mT2w_restore_516742.nii -add mT2w_restore_517239.nii -add mT2w_restore_518746.nii -add mT2w_restore_519647.nii -add mT2w_restore_519950.nii -add mT2w_restore_520228.nii -add mT2w_restore_521331.nii -add mT2w_restore_522434.nii -add mT2w_restore_523032.nii -add mT2w_restore_524135.nii -add mT2w_restore_525541.nii -add mT2w_restore_529549.nii -add mT2w_restore_529953.nii -add mT2w_restore_530635.nii -add mT2w_restore_531536.nii -add mT2w_restore_531940.nii -add mT2w_restore_536647.nii -add mT2w_restore_540436.nii -add mT2w_restore_541640.nii -add mT2w_restore_541943.nii -add mT2w_restore_545345.nii -add mT2w_restore_547046.nii -add mT2w_restore_548250.nii -add mT2w_restore_549757.nii -add mT2w_restore_550439.nii -add mT2w_restore_552241.nii -add mT2w_restore_552544.nii -add mT2w_restore_553344.nii -add mT2w_restore_555348.nii -add mT2w_restore_555651.nii -add mT2w_restore_555954.nii -add mT2w_restore_557857.nii -add mT2w_restore_558657.nii -add mT2w_restore_558960.nii -add mT2w_restore_559053.nii -add mT2w_restore_559457.nii -add mT2w_restore_561242.nii -add mT2w_restore_561444.nii -add mT2w_restore_561949.nii -add mT2w_restore_562345.nii -add mT2w_restore_562446.nii -add mT2w_restore_565452.nii -add mT2w_restore_566454.nii mT2w_100added.nii\n",
    "## fslmaths mT2w_100added.nii -div 100 mT2w_100average.nii\n",
    "## fslmaths mT1w_100average.nii -div mT2w_100average.nii mT1wdivT2w_100average.nii\n",
    "\n",
    "# Then generate a dscalar file from the 100 group average:\n",
    "## flirt -in mT1wdivT2w_100average.nii.nii -ref mT1wdivT2w_100average.nii -out mT1wdivT2w_100average_2mmResample.nii -applyisoxfm 2 -noresampblur\n",
    "## fslroi mT1wdivT2w_100average_2mmResample.nii mT1wdivT2w_100average_2mmResample_resized.nii 0 91 0 109 0 91\n",
    "## gzip -d mT1wdivT2w_100average_2mmResample_resized.nii.gz\n",
    "## fslmaths mT1wdivT2w_100average_2mmResample_resized.nii -mas cerebellum_bilateral.nii mT1wdivT2w_100average_2mmResample_resized_crbonly.nii\n",
    "## gzip -d mT1wdivT2w_100average_2mmResample_resized_crbonly.nii.gz\n",
    "## wb_command -cifti-create-dense-from-template result_cfromcerebellumtocerebellum.dscalar.nii myelin_cerebellumonly_100average.dscalar.nii -volume-all MT1wdivT2w_100average_2mmResample_resized.nii"
   ]
  }
 ],
 "metadata": {
  "kernelspec": {
   "display_name": "Python 3",
   "language": "python",
   "name": "python3"
  },
  "language_info": {
   "codemirror_mode": {
    "name": "ipython",
    "version": 3
   },
   "file_extension": ".py",
   "mimetype": "text/x-python",
   "name": "python",
   "nbconvert_exporter": "python",
   "pygments_lexer": "ipython3",
   "version": "3.5.2"
  }
 },
 "nbformat": 4,
 "nbformat_minor": 2
}
